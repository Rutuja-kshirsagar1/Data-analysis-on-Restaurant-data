{
 "cells": [
  {
   "cell_type": "code",
   "execution_count": 21,
   "id": "5ed1f1c4",
   "metadata": {},
   "outputs": [],
   "source": [
    "import pandas as pd \n",
    "import numpy as np\n",
    "import matplotlib.pyplot as plt \n",
    "import seaborn as sns"
   ]
  },
  {
   "cell_type": "code",
   "execution_count": 22,
   "id": "d5dbf23d",
   "metadata": {},
   "outputs": [],
   "source": [
    "df= pd.read_csv(\"D:\\internship works\\cognifyztech\\Dataset .csv\")"
   ]
  },
  {
   "cell_type": "code",
   "execution_count": 23,
   "id": "8b9fbba6",
   "metadata": {},
   "outputs": [
    {
     "data": {
      "text/html": [
       "<div>\n",
       "<style scoped>\n",
       "    .dataframe tbody tr th:only-of-type {\n",
       "        vertical-align: middle;\n",
       "    }\n",
       "\n",
       "    .dataframe tbody tr th {\n",
       "        vertical-align: top;\n",
       "    }\n",
       "\n",
       "    .dataframe thead th {\n",
       "        text-align: right;\n",
       "    }\n",
       "</style>\n",
       "<table border=\"1\" class=\"dataframe\">\n",
       "  <thead>\n",
       "    <tr style=\"text-align: right;\">\n",
       "      <th></th>\n",
       "      <th>Restaurant ID</th>\n",
       "      <th>Restaurant Name</th>\n",
       "      <th>Country Code</th>\n",
       "      <th>City</th>\n",
       "      <th>Address</th>\n",
       "      <th>Locality</th>\n",
       "      <th>Locality Verbose</th>\n",
       "      <th>Longitude</th>\n",
       "      <th>Latitude</th>\n",
       "      <th>Cuisines</th>\n",
       "      <th>...</th>\n",
       "      <th>Currency</th>\n",
       "      <th>Has Table booking</th>\n",
       "      <th>Has Online delivery</th>\n",
       "      <th>Is delivering now</th>\n",
       "      <th>Switch to order menu</th>\n",
       "      <th>Price range</th>\n",
       "      <th>Aggregate rating</th>\n",
       "      <th>Rating color</th>\n",
       "      <th>Rating text</th>\n",
       "      <th>Votes</th>\n",
       "    </tr>\n",
       "  </thead>\n",
       "  <tbody>\n",
       "    <tr>\n",
       "      <th>0</th>\n",
       "      <td>6317637</td>\n",
       "      <td>Le Petit Souffle</td>\n",
       "      <td>162</td>\n",
       "      <td>Makati City</td>\n",
       "      <td>Third Floor, Century City Mall, Kalayaan Avenu...</td>\n",
       "      <td>Century City Mall, Poblacion, Makati City</td>\n",
       "      <td>Century City Mall, Poblacion, Makati City, Mak...</td>\n",
       "      <td>121.027535</td>\n",
       "      <td>14.565443</td>\n",
       "      <td>French, Japanese, Desserts</td>\n",
       "      <td>...</td>\n",
       "      <td>Botswana Pula(P)</td>\n",
       "      <td>Yes</td>\n",
       "      <td>No</td>\n",
       "      <td>No</td>\n",
       "      <td>No</td>\n",
       "      <td>3</td>\n",
       "      <td>4.8</td>\n",
       "      <td>Dark Green</td>\n",
       "      <td>Excellent</td>\n",
       "      <td>314</td>\n",
       "    </tr>\n",
       "    <tr>\n",
       "      <th>1</th>\n",
       "      <td>6304287</td>\n",
       "      <td>Izakaya Kikufuji</td>\n",
       "      <td>162</td>\n",
       "      <td>Makati City</td>\n",
       "      <td>Little Tokyo, 2277 Chino Roces Avenue, Legaspi...</td>\n",
       "      <td>Little Tokyo, Legaspi Village, Makati City</td>\n",
       "      <td>Little Tokyo, Legaspi Village, Makati City, Ma...</td>\n",
       "      <td>121.014101</td>\n",
       "      <td>14.553708</td>\n",
       "      <td>Japanese</td>\n",
       "      <td>...</td>\n",
       "      <td>Botswana Pula(P)</td>\n",
       "      <td>Yes</td>\n",
       "      <td>No</td>\n",
       "      <td>No</td>\n",
       "      <td>No</td>\n",
       "      <td>3</td>\n",
       "      <td>4.5</td>\n",
       "      <td>Dark Green</td>\n",
       "      <td>Excellent</td>\n",
       "      <td>591</td>\n",
       "    </tr>\n",
       "    <tr>\n",
       "      <th>2</th>\n",
       "      <td>6300002</td>\n",
       "      <td>Heat - Edsa Shangri-La</td>\n",
       "      <td>162</td>\n",
       "      <td>Mandaluyong City</td>\n",
       "      <td>Edsa Shangri-La, 1 Garden Way, Ortigas, Mandal...</td>\n",
       "      <td>Edsa Shangri-La, Ortigas, Mandaluyong City</td>\n",
       "      <td>Edsa Shangri-La, Ortigas, Mandaluyong City, Ma...</td>\n",
       "      <td>121.056831</td>\n",
       "      <td>14.581404</td>\n",
       "      <td>Seafood, Asian, Filipino, Indian</td>\n",
       "      <td>...</td>\n",
       "      <td>Botswana Pula(P)</td>\n",
       "      <td>Yes</td>\n",
       "      <td>No</td>\n",
       "      <td>No</td>\n",
       "      <td>No</td>\n",
       "      <td>4</td>\n",
       "      <td>4.4</td>\n",
       "      <td>Green</td>\n",
       "      <td>Very Good</td>\n",
       "      <td>270</td>\n",
       "    </tr>\n",
       "    <tr>\n",
       "      <th>3</th>\n",
       "      <td>6318506</td>\n",
       "      <td>Ooma</td>\n",
       "      <td>162</td>\n",
       "      <td>Mandaluyong City</td>\n",
       "      <td>Third Floor, Mega Fashion Hall, SM Megamall, O...</td>\n",
       "      <td>SM Megamall, Ortigas, Mandaluyong City</td>\n",
       "      <td>SM Megamall, Ortigas, Mandaluyong City, Mandal...</td>\n",
       "      <td>121.056475</td>\n",
       "      <td>14.585318</td>\n",
       "      <td>Japanese, Sushi</td>\n",
       "      <td>...</td>\n",
       "      <td>Botswana Pula(P)</td>\n",
       "      <td>No</td>\n",
       "      <td>No</td>\n",
       "      <td>No</td>\n",
       "      <td>No</td>\n",
       "      <td>4</td>\n",
       "      <td>4.9</td>\n",
       "      <td>Dark Green</td>\n",
       "      <td>Excellent</td>\n",
       "      <td>365</td>\n",
       "    </tr>\n",
       "    <tr>\n",
       "      <th>4</th>\n",
       "      <td>6314302</td>\n",
       "      <td>Sambo Kojin</td>\n",
       "      <td>162</td>\n",
       "      <td>Mandaluyong City</td>\n",
       "      <td>Third Floor, Mega Atrium, SM Megamall, Ortigas...</td>\n",
       "      <td>SM Megamall, Ortigas, Mandaluyong City</td>\n",
       "      <td>SM Megamall, Ortigas, Mandaluyong City, Mandal...</td>\n",
       "      <td>121.057508</td>\n",
       "      <td>14.584450</td>\n",
       "      <td>Japanese, Korean</td>\n",
       "      <td>...</td>\n",
       "      <td>Botswana Pula(P)</td>\n",
       "      <td>Yes</td>\n",
       "      <td>No</td>\n",
       "      <td>No</td>\n",
       "      <td>No</td>\n",
       "      <td>4</td>\n",
       "      <td>4.8</td>\n",
       "      <td>Dark Green</td>\n",
       "      <td>Excellent</td>\n",
       "      <td>229</td>\n",
       "    </tr>\n",
       "  </tbody>\n",
       "</table>\n",
       "<p>5 rows × 21 columns</p>\n",
       "</div>"
      ],
      "text/plain": [
       "   Restaurant ID         Restaurant Name  Country Code              City  \\\n",
       "0        6317637        Le Petit Souffle           162       Makati City   \n",
       "1        6304287        Izakaya Kikufuji           162       Makati City   \n",
       "2        6300002  Heat - Edsa Shangri-La           162  Mandaluyong City   \n",
       "3        6318506                    Ooma           162  Mandaluyong City   \n",
       "4        6314302             Sambo Kojin           162  Mandaluyong City   \n",
       "\n",
       "                                             Address  \\\n",
       "0  Third Floor, Century City Mall, Kalayaan Avenu...   \n",
       "1  Little Tokyo, 2277 Chino Roces Avenue, Legaspi...   \n",
       "2  Edsa Shangri-La, 1 Garden Way, Ortigas, Mandal...   \n",
       "3  Third Floor, Mega Fashion Hall, SM Megamall, O...   \n",
       "4  Third Floor, Mega Atrium, SM Megamall, Ortigas...   \n",
       "\n",
       "                                     Locality  \\\n",
       "0   Century City Mall, Poblacion, Makati City   \n",
       "1  Little Tokyo, Legaspi Village, Makati City   \n",
       "2  Edsa Shangri-La, Ortigas, Mandaluyong City   \n",
       "3      SM Megamall, Ortigas, Mandaluyong City   \n",
       "4      SM Megamall, Ortigas, Mandaluyong City   \n",
       "\n",
       "                                    Locality Verbose   Longitude   Latitude  \\\n",
       "0  Century City Mall, Poblacion, Makati City, Mak...  121.027535  14.565443   \n",
       "1  Little Tokyo, Legaspi Village, Makati City, Ma...  121.014101  14.553708   \n",
       "2  Edsa Shangri-La, Ortigas, Mandaluyong City, Ma...  121.056831  14.581404   \n",
       "3  SM Megamall, Ortigas, Mandaluyong City, Mandal...  121.056475  14.585318   \n",
       "4  SM Megamall, Ortigas, Mandaluyong City, Mandal...  121.057508  14.584450   \n",
       "\n",
       "                           Cuisines  ...          Currency Has Table booking  \\\n",
       "0        French, Japanese, Desserts  ...  Botswana Pula(P)               Yes   \n",
       "1                          Japanese  ...  Botswana Pula(P)               Yes   \n",
       "2  Seafood, Asian, Filipino, Indian  ...  Botswana Pula(P)               Yes   \n",
       "3                   Japanese, Sushi  ...  Botswana Pula(P)                No   \n",
       "4                  Japanese, Korean  ...  Botswana Pula(P)               Yes   \n",
       "\n",
       "  Has Online delivery Is delivering now Switch to order menu Price range  \\\n",
       "0                  No                No                   No           3   \n",
       "1                  No                No                   No           3   \n",
       "2                  No                No                   No           4   \n",
       "3                  No                No                   No           4   \n",
       "4                  No                No                   No           4   \n",
       "\n",
       "   Aggregate rating  Rating color Rating text Votes  \n",
       "0               4.8    Dark Green   Excellent   314  \n",
       "1               4.5    Dark Green   Excellent   591  \n",
       "2               4.4         Green   Very Good   270  \n",
       "3               4.9    Dark Green   Excellent   365  \n",
       "4               4.8    Dark Green   Excellent   229  \n",
       "\n",
       "[5 rows x 21 columns]"
      ]
     },
     "execution_count": 23,
     "metadata": {},
     "output_type": "execute_result"
    }
   ],
   "source": [
    "df.head()"
   ]
  },
  {
   "cell_type": "code",
   "execution_count": 24,
   "id": "7ae671b7",
   "metadata": {},
   "outputs": [
    {
     "name": "stdout",
     "output_type": "stream",
     "text": [
      "<class 'pandas.core.frame.DataFrame'>\n",
      "RangeIndex: 9551 entries, 0 to 9550\n",
      "Data columns (total 21 columns):\n",
      " #   Column                Non-Null Count  Dtype  \n",
      "---  ------                --------------  -----  \n",
      " 0   Restaurant ID         9551 non-null   int64  \n",
      " 1   Restaurant Name       9551 non-null   object \n",
      " 2   Country Code          9551 non-null   int64  \n",
      " 3   City                  9551 non-null   object \n",
      " 4   Address               9551 non-null   object \n",
      " 5   Locality              9551 non-null   object \n",
      " 6   Locality Verbose      9551 non-null   object \n",
      " 7   Longitude             9551 non-null   float64\n",
      " 8   Latitude              9551 non-null   float64\n",
      " 9   Cuisines              9542 non-null   object \n",
      " 10  Average Cost for two  9551 non-null   int64  \n",
      " 11  Currency              9551 non-null   object \n",
      " 12  Has Table booking     9551 non-null   object \n",
      " 13  Has Online delivery   9551 non-null   object \n",
      " 14  Is delivering now     9551 non-null   object \n",
      " 15  Switch to order menu  9551 non-null   object \n",
      " 16  Price range           9551 non-null   int64  \n",
      " 17  Aggregate rating      9551 non-null   float64\n",
      " 18  Rating color          9551 non-null   object \n",
      " 19  Rating text           9551 non-null   object \n",
      " 20  Votes                 9551 non-null   int64  \n",
      "dtypes: float64(3), int64(5), object(13)\n",
      "memory usage: 1.5+ MB\n"
     ]
    }
   ],
   "source": [
    "df.info()"
   ]
  },
  {
   "cell_type": "markdown",
   "id": "2d52ea96",
   "metadata": {},
   "source": [
    "LEVEL 1 "
   ]
  },
  {
   "cell_type": "markdown",
   "id": "2fdaa469",
   "metadata": {},
   "source": [
    "Top Cuisines "
   ]
  },
  {
   "cell_type": "markdown",
   "id": "4815bf96",
   "metadata": {},
   "source": [
    "Task 1: A. Determine the top three most common cuisines in the dataset"
   ]
  },
  {
   "cell_type": "code",
   "execution_count": 25,
   "id": "724a1562",
   "metadata": {},
   "outputs": [
    {
     "data": {
      "text/html": [
       "<div>\n",
       "<style scoped>\n",
       "    .dataframe tbody tr th:only-of-type {\n",
       "        vertical-align: middle;\n",
       "    }\n",
       "\n",
       "    .dataframe tbody tr th {\n",
       "        vertical-align: top;\n",
       "    }\n",
       "\n",
       "    .dataframe thead th {\n",
       "        text-align: right;\n",
       "    }\n",
       "</style>\n",
       "<table border=\"1\" class=\"dataframe\">\n",
       "  <thead>\n",
       "    <tr style=\"text-align: right;\">\n",
       "      <th></th>\n",
       "      <th>Cuisine</th>\n",
       "      <th>Restaurant Count</th>\n",
       "    </tr>\n",
       "  </thead>\n",
       "  <tbody>\n",
       "    <tr>\n",
       "      <th>0</th>\n",
       "      <td>North Indian</td>\n",
       "      <td>3960</td>\n",
       "    </tr>\n",
       "    <tr>\n",
       "      <th>1</th>\n",
       "      <td>Chinese</td>\n",
       "      <td>2735</td>\n",
       "    </tr>\n",
       "    <tr>\n",
       "      <th>2</th>\n",
       "      <td>Fast Food</td>\n",
       "      <td>1986</td>\n",
       "    </tr>\n",
       "  </tbody>\n",
       "</table>\n",
       "</div>"
      ],
      "text/plain": [
       "        Cuisine  Restaurant Count\n",
       "0  North Indian              3960\n",
       "1       Chinese              2735\n",
       "2     Fast Food              1986"
      ]
     },
     "execution_count": 25,
     "metadata": {},
     "output_type": "execute_result"
    }
   ],
   "source": [
    "cusine_counts=(\n",
    "               df['Cuisines']\n",
    "               .dropna()#removing missing value\n",
    "               .str.split(',')#split multiple cuisines\n",
    "               .explode()#expand into separate rows\n",
    "               .str.strip()#remove extra spaces\n",
    "               .value_counts()#count accurences\n",
    ")\n",
    "\n",
    "#\n",
    "top_cuisines = cusine_counts.head(3).reset_index()\n",
    "top_cuisines.columns =['Cuisine','Restaurant Count']\n",
    "top_cuisines"
   ]
  },
  {
   "cell_type": "code",
   "execution_count": 26,
   "id": "dd9a43f3",
   "metadata": {},
   "outputs": [
    {
     "data": {
      "image/png": "[encoded data removed]",
      "text/plain": [
       "<Figure size 800x500 with 1 Axes>"
      ]
     },
     "metadata": {},
     "output_type": "display_data"
    }
   ],
   "source": [
    "import matplotlib.pyplot as plt\n",
    "\n",
    "plt.figure(figsize=(8, 5))\n",
    "\n",
    "\n",
    "color_palette = ['#FF6B6B', \"#DC1F87\", \"#118AA8\"]\n",
    "\n",
    "plt.bar(top_cuisines['Cuisine'], top_cuisines['Restaurant Count'], color=color_palette)\n",
    "plt.xticks(rotation=45, ha='right')\n",
    "plt.title(\"Top 3 Most Common Cuisines\", fontsize=14, fontweight='bold')\n",
    "plt.xlabel('Cuisine Type', fontsize=12)\n",
    "plt.ylabel('Number of Restaurants', fontsize=12)\n",
    "\n",
    "\n",
    "for i, val in enumerate(top_cuisines['Restaurant Count']):\n",
    "    plt.text(i, val + 2, str(val), ha='center', fontsize=9, fontweight='bold')\n",
    "\n",
    "plt.tight_layout()\n",
    "plt.show()"
   ]
  },
  {
   "cell_type": "markdown",
   "id": "22c1fb6d",
   "metadata": {},
   "source": [
    "Task 1: B.Calculate the percentage of restaurants that serve each of the top cuisines."
   ]
  },
  {
   "cell_type": "code",
   "execution_count": 27,
   "id": "7d9f6f48",
   "metadata": {},
   "outputs": [
    {
     "data": {
      "text/plain": [
       "0    41.46\n",
       "1    28.64\n",
       "2    20.79\n",
       "Name: Percentage, dtype: float64"
      ]
     },
     "execution_count": 27,
     "metadata": {},
     "output_type": "execute_result"
    }
   ],
   "source": [
    "total_restaurants = len(df)\n",
    "top_cuisines['Percentage']= (top_cuisines['Restaurant Count']/ total_restaurants*100).round(2)\n",
    "top_cuisines['Percentage']"
   ]
  },
  {
   "cell_type": "code",
   "execution_count": 28,
   "id": "f8b1ba00",
   "metadata": {},
   "outputs": [
    {
     "data": {
      "image/png": "[encoded data removed]",
      "text/plain": [
       "<Figure size 800x500 with 1 Axes>"
      ]
     },
     "metadata": {},
     "output_type": "display_data"
    }
   ],
   "source": [
    "plt.figure(figsize=(8,5))\n",
    "colors=['r','g','b']\n",
    "plt.barh(top_cuisines['Cuisine'],top_cuisines['Percentage'],color=colors)\n",
    "plt.xlabel(\"Percentage of Restaurant(%)\", fontsize = 12)\n",
    "plt.ylabel(\"Cusine Type\",fontsize=12)\n",
    "plt.title(\"Top 3 Cusines - Percentage Distribution\", fontsize=14, fontweight='bold')\n",
    "\n",
    "for i , pct in enumerate(top_cuisines['Percentage']):\n",
    "    plt.text(pct +1, i, f\"{pct}%\",va='center',fontsize=11,fontweight='bold')\n",
    "    \n",
    "plt.gca().invert_yaxis()\n",
    "plt.show()"
   ]
  },
  {
   "cell_type": "markdown",
   "id": "f03123df",
   "metadata": {},
   "source": [
    " City Analysis"
   ]
  },
  {
   "cell_type": "markdown",
   "id": "d853c8e5",
   "metadata": {},
   "source": [
    "Task 2 : A.Identify the city with the highest number of restaurants in the dataset. "
   ]
  },
  {
   "cell_type": "code",
   "execution_count": 29,
   "id": "1e18a227",
   "metadata": {},
   "outputs": [
    {
     "name": "stdout",
     "output_type": "stream",
     "text": [
      "The city with the most retaurant is \u001b[1mNew Delhi(5473 restaurant)\u001b[0m.\n"
     ]
    }
   ],
   "source": [
    "city_counts = df['City'].value_counts()\n",
    "top_city = city_counts.idxmax()\n",
    "top_city_count = city_counts.max()\n",
    "print(f\"The city with the most retaurant is \\033[1m{top_city}({top_city_count} restaurant)\\033[0m.\")"
   ]
  },
  {
   "cell_type": "markdown",
   "id": "e512bb20",
   "metadata": {},
   "source": [
    "Task 2 : B.Calculate the average rating for restaurants in each city."
   ]
  },
  {
   "cell_type": "code",
   "execution_count": 30,
   "id": "98239c2a",
   "metadata": {},
   "outputs": [
    {
     "data": {
      "text/plain": [
       "City\n",
       "Abu Dhabi    4.30\n",
       "Agra         3.96\n",
       "Ahmedabad    4.16\n",
       "Albany       3.56\n",
       "Allahabad    3.40\n",
       "Name: Aggregate rating, dtype: float64"
      ]
     },
     "execution_count": 30,
     "metadata": {},
     "output_type": "execute_result"
    }
   ],
   "source": [
    "city_avg_rating = df.groupby('City')['Aggregate rating'].mean().round(2).head()\n",
    "city_avg_rating"
   ]
  },
  {
   "cell_type": "markdown",
   "id": "87009baf",
   "metadata": {},
   "source": [
    "Task 2: C. Determine the city with the highest average rating."
   ]
  },
  {
   "cell_type": "code",
   "execution_count": 31,
   "id": "1f57edfb",
   "metadata": {},
   "outputs": [
    {
     "name": "stdout",
     "output_type": "stream",
     "text": [
      "The city with the nhighest average rating is \u001b[1mAbu Dhabi(4.3 average rating\u001b[0m.\n"
     ]
    }
   ],
   "source": [
    "top_rated_city =city_avg_rating.idxmax()\n",
    "top_avg_rating = city_avg_rating.max()\n",
    "print(f\"The city with the nhighest average rating is \\033[1m{top_rated_city}({top_avg_rating} average rating\\033[0m.\")"
   ]
  },
  {
   "cell_type": "markdown",
   "id": "15103325",
   "metadata": {},
   "source": [
    " Price Range Distribution"
   ]
  },
  {
   "cell_type": "markdown",
   "id": "9415d786",
   "metadata": {},
   "source": [
    "Task 3: A.Create a histogram or bar chart to visualize the distribution of price ranges among the restaurants."
   ]
  },
  {
   "cell_type": "code",
   "execution_count": 32,
   "id": "6b888dfc",
   "metadata": {},
   "outputs": [
    {
     "name": "stderr",
     "output_type": "stream",
     "text": [
      "C:\\Users\\ASUS\\AppData\\Local\\Temp\\ipykernel_20232\\4249065318.py:7: UserWarning: \n",
      "The palette list has fewer values (3) than needed (4) and will cycle, which may produce an uninterpretable plot.\n",
      "  sns.barplot(x=price_range_counts.index , y=price_range_counts.values , hue=price_range_counts.index, palette = colors , legend=False)\n"
     ]
    },
    {
     "data": {
      "image/png": "[encoded data removed]",
      "text/plain": [
       "<Figure size 800x500 with 1 Axes>"
      ]
     },
     "metadata": {},
     "output_type": "display_data"
    }
   ],
   "source": [
    "price_range_counts = df['Price range'].value_counts().sort_index()\n",
    "\n",
    "sns.set_style(\"whitegrid\")\n",
    "colors=['r','g','b']\n",
    "\n",
    "plt.figure(figsize=(8,5))\n",
    "sns.barplot(x=price_range_counts.index , y=price_range_counts.values , hue=price_range_counts.index, palette = colors , legend=False)\n",
    "\n",
    "plt.xlabel(\"price range\",fontsize=12)\n",
    "plt.ylabel(\"number of restaurants\", fontsize = 12)\n",
    "plt.title(\"distribution of price ranges\", fontsize = 14 , fontweight='bold')\n",
    "\n",
    "for i , val in enumerate(price_range_counts):\n",
    "    plt.text(i,val +5, str(val),ha='center',fontsize = 9, fontweight='bold')\n",
    "             \n",
    "plt.show()"
   ]
  },
  {
   "cell_type": "markdown",
   "id": "baea84ad",
   "metadata": {},
   "source": [
    "Task 3: B.Calculate the percentage of restaurants in each price range category."
   ]
  },
  {
   "cell_type": "code",
   "execution_count": 33,
   "id": "107f3faa",
   "metadata": {},
   "outputs": [
    {
     "name": "stdout",
     "output_type": "stream",
     "text": [
      "percentage of restauant in easch price range :\n",
      "\n",
      "price rnge 1;46.53%\n",
      "price rnge 2;32.59%\n",
      "price rnge 3;14.74%\n",
      "price rnge 4;6.14%\n"
     ]
    }
   ],
   "source": [
    "total_restaurants= len(df)\n",
    "price_range_percentages=(price_range_counts/total_restaurants *100).round(2)\n",
    "\n",
    "print(\"percentage of restauant in easch price range :\\n\")\n",
    "for price , percent in price_range_percentages.items():\n",
    "    print(f\"price rnge {price};{percent}%\")"
   ]
  },
  {
   "cell_type": "code",
   "execution_count": 34,
   "id": "930de120",
   "metadata": {},
   "outputs": [
    {
     "name": "stdout",
     "output_type": "stream",
     "text": [
      "Percentage of Restaurant in each price range\n",
      "Price Range 1:46.53%\n",
      "Price Range 2:32.59%\n",
      "Price Range 3:14.74%\n",
      "Price Range 4:6.14%\n"
     ]
    },
    {
     "data": {
      "image/png": "[encoded data removed]",
      "text/plain": [
       "<Figure size 500x500 with 1 Axes>"
      ]
     },
     "metadata": {},
     "output_type": "display_data"
    }
   ],
   "source": [
    "print(\"Percentage of Restaurant in each price range\")\n",
    "for price , percent in price_range_percentages.items():\n",
    "    print(f\"Price Range {price}:{percent}%\")\n",
    "    \n",
    "colors =['r','b','g']\n",
    "\n",
    "plt.figure(figsize=(5,5))\n",
    "plt.pie(price_range_percentages, labels=price_range_percentages.index, autopct='%1.1f%%',colors=colors,startangle=90, wedgeprops={'edgecolor':'white','linewidth':2,'antialiased':True})\n",
    "\n",
    "center_circle= plt.Circle((0,0),0.70,fc='white')\n",
    "plt.gca().add_artist(center_circle)\n",
    "\n",
    "plt.title('percentage of Restaurants by price range')\n",
    "plt.show()"
   ]
  },
  {
   "cell_type": "markdown",
   "id": "83d817e1",
   "metadata": {},
   "source": [
    "Online Delivery"
   ]
  },
  {
   "cell_type": "markdown",
   "id": "d4b5ee17",
   "metadata": {},
   "source": [
    "Task 4 : A.Determine the percentage of restaurants that offer online delivery."
   ]
  },
  {
   "cell_type": "code",
   "execution_count": 35,
   "id": "2fa7bb3a",
   "metadata": {},
   "outputs": [
    {
     "data": {
      "text/plain": [
       "Index(['Restaurant ID', 'Restaurant Name', 'Country Code', 'City', 'Address',\n",
       "       'Locality', 'Locality Verbose', 'Longitude', 'Latitude', 'Cuisines',\n",
       "       'Average Cost for two', 'Currency', 'Has Table booking',\n",
       "       'Has Online delivery', 'Is delivering now', 'Switch to order menu',\n",
       "       'Price range', 'Aggregate rating', 'Rating color', 'Rating text',\n",
       "       'Votes'],\n",
       "      dtype='object')"
      ]
     },
     "execution_count": 35,
     "metadata": {},
     "output_type": "execute_result"
    }
   ],
   "source": [
    "df.columns"
   ]
  },
  {
   "cell_type": "code",
   "execution_count": 36,
   "id": "46b1355b",
   "metadata": {},
   "outputs": [
    {
     "name": "stdout",
     "output_type": "stream",
     "text": [
      "percentage of restaurants offering online delivery: 25.66%\n"
     ]
    }
   ],
   "source": [
    "df['Has Online delivery']= df['Has Online delivery'].str.lower()\n",
    "total_restaurants=len(df)\n",
    "online_delivery_count =(df['Has Online delivery']=='yes').sum()\n",
    "online_delivery_percentage = (online_delivery_count/total_restaurants)*100\n",
    "print(f\"percentage of restaurants offering online delivery: {online_delivery_percentage:.2f}%\")"
   ]
  },
  {
   "cell_type": "markdown",
   "id": "0ff61bd4",
   "metadata": {},
   "source": [
    "Task 4 : B.Compare the average ratings of restaurants  with and without online delivery."
   ]
  },
  {
   "cell_type": "code",
   "execution_count": 37,
   "id": "f5cfa4a1",
   "metadata": {},
   "outputs": [
    {
     "name": "stdout",
     "output_type": "stream",
     "text": [
      "Average rating of resturants with online delivery: 3.25\n",
      "Average rating of restaurants without online delivery : 2.47\n"
     ]
    }
   ],
   "source": [
    "if 'Aggregate rating' in df.columns:\n",
    "    avg_rating_with_delivery =df[df['Has Online delivery']=='yes']['Aggregate rating'].mean()\n",
    "    avg_rating_without_delivery = df[df['Has Online delivery']=='no']['Aggregate rating'].mean()\n",
    "else:\n",
    "    avg_rating_with_delivery=avg_rating_without_delivery =\"rating column not found\"\n",
    "    \n",
    "print(f\"Average rating of resturants with online delivery: {avg_rating_with_delivery.round(2)}\")\n",
    "print(f\"Average rating of restaurants without online delivery : {avg_rating_without_delivery.round(2)}\")    "
   ]
  }
 ],
 "metadata": {
  "kernelspec": {
   "display_name": "Python 3",
   "language": "python",
   "name": "python3"
  },
  "language_info": {
   "codemirror_mode": {
    "name": "ipython",
    "version": 3
   },
   "file_extension": ".py",
   "mimetype": "text/x-python",
   "name": "python",
   "nbconvert_exporter": "python",
   "pygments_lexer": "ipython3",
   "version": "3.11.3"
  }
 },
 "nbformat": 4,
 "nbformat_minor": 5
}
